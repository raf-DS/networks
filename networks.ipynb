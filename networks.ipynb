{
 "cells": [
  {
   "cell_type": "code",
   "execution_count": 1,
   "id": "ce361984",
   "metadata": {
    "code_folding": [
     0
    ]
   },
   "outputs": [],
   "source": [
    "# imports\n",
    "import numpy as np ; import pandas as pd\n",
    "import matplotlib.pyplot as plt ; import matplotlib as mpl\n",
    "import scipy.stats as stats ; \n",
    "import networkx as nx ; from math import comb as choose\n",
    "from scipy.optimize import fsolve\n",
    "from IPython.display import display, Math, Latex\n",
    "import itertools as it\n",
    "from IPython.display import display_html\n",
    "# from itertools import chain,cycle\n",
    "\n",
    "# imports\n",
    "ranseed = 245"
   ]
  },
  {
   "cell_type": "code",
   "execution_count": 2,
   "id": "0521b658",
   "metadata": {
    "code_folding": [
     0,
     1,
     11,
     22
    ]
   },
   "outputs": [],
   "source": [
    "# average_degree(G)\n",
    "def average_degree(G):\n",
    "    degrees = G.degree()\n",
    "    sum = 0\n",
    "    for i in range(len(degrees)):\n",
    "        sum += (degrees[i])\n",
    "\n",
    "    average_degree = ( sum / len(G.nodes()) )\n",
    "    return average_degree\n",
    "\n",
    "# display pd.DataFrame()s side-by side\n",
    "def display_side_by_side(*args,titles = it.cycle([''])):\n",
    "    html_str=''\n",
    "    for df,title in zip(args, it.chain(titles, it.cycle(['</br>'])) ):\n",
    "        html_str+='<th style=\"text-align:center\"><td style=\"vertical-align:top\">'\n",
    "        html_str+=f'<h2>{title}</h2>'\n",
    "        html_str+=df.to_html().replace('table','table style=\"display:inline\"')\n",
    "        html_str+='</td></th>'\n",
    "    display_html(html_str,raw=True)\n",
    "    \n",
    "# define compare_summarries(df1,df2,q)\n",
    "# take df1 and df2 as well as a common summary statistic, then plot the histograms of the two\n",
    "def compare_summarries(df1, df2, q):\n",
    "    fig, ax = plt.subplots(1, 1, figsize=(8,6));\n",
    "    # plot qualities\n",
    "    plt.hist( df1[q], bins = np.unique(df1[q]), color = \"red\", alpha = .9);\n",
    "    plt.hist( df2[q], bins = np.unique(df2[q]), color = \"blue\", alpha = .9);\n",
    "    # tidy plot\n",
    "    plt.legend([\"Config\", \"Chung-Lu\"])\n",
    "    plt.xlabel(str(q)) ; plt.title(f\"Compare {q} for {sims} Config and Chung-Lu Simulations\");"
   ]
  },
  {
   "cell_type": "code",
   "execution_count": 3,
   "id": "d0c55594",
   "metadata": {
    "code_folding": [
     0,
     3
    ]
   },
   "outputs": [],
   "source": [
    "# define harmonic_centrality(g);\n",
    "# input nx.Graph()\n",
    "# output list of harmonic centralities for nodes and dataframe\n",
    "def harmonic_centrality(g):\n",
    "    # define array to return of harmonic centrality for all nodes\n",
    "    hc = []; n =len(g.nodes)\n",
    "    # define harmonic df\n",
    "    h_df = pd.DataFrame(columns= [\"Node\",\"HC\"])\n",
    "    # loop through all nodes\n",
    "    for ni in g.nodes:\n",
    "        sum_ni = 0\n",
    "        # calculate shortest path to all other nodes\n",
    "        for nj in range(n):\n",
    "            # avoid shortest path from a node to itself\n",
    "            if nj != ni:\n",
    "                # add 1/lij to running sum\n",
    "                try : sum_ni += 1 / ( len(nx.shortest_path(g, source=ni, target=nj)) )\n",
    "                # path DNE and thus 0 ; unnecessary to add\n",
    "                except : sum_ni += ( 1 / np.infty)\n",
    "        # find harmonic centrality for ni; sum for all 1/lij, where lij is shortest path, then divide by n-1\n",
    "        hc.append( sum_ni / (n-1) )\n",
    "        h_df.loc[ni] = ni, (sum_ni / (n-1))\n",
    "    return hc, h_df"
   ]
  },
  {
   "cell_type": "code",
   "execution_count": 12,
   "id": "bb386975",
   "metadata": {
    "code_folding": [
     0,
     3,
     29
    ]
   },
   "outputs": [],
   "source": [
    "# define config_model(degrees)\n",
    "# input : an array of degrees for all nodes in a network\n",
    "# output : a matrix of ranomized stub connections and respective Graph\n",
    "def config_model(degrees):\n",
    "\n",
    "    # (a) \"document\" all stubs present in degree list\n",
    "    all_stubs = []\n",
    "    for d, n in zip(degrees, range(len(degrees)) ):\n",
    "        for stub in range(d):\n",
    "            all_stubs.append(n)\n",
    "\n",
    "    # (b) randomly shuffle the degree list to create a random stub permutation\n",
    "    np.random.shuffle(all_stubs)\n",
    "    \n",
    "    # prepare a matrix of zeros\n",
    "    stub_matrix = np.zeros( (len(degrees), len(degrees)) )    \n",
    "    # (c) loop through every pair of elements and let this be a connection of stubs\n",
    "    while len(all_stubs) > 1:\n",
    "        # pop first element of array twice; pop removes without replacement, thus two adjacent and different nodes\n",
    "        stub1 = all_stubs.pop(0) ; stub2 = all_stubs.pop(0)\n",
    "        # denote this node conenction in matrix symmetrically\n",
    "        stub_matrix[stub1][stub2] = 1 ; stub_matrix[stub2][stub1] = 1\n",
    "    \n",
    "    stub_graph = nx.Graph(stub_matrix)\n",
    "    return (stub_matrix, stub_graph)\n",
    "\n",
    "# define chung_lu_model(degrees)\n",
    "# input : an array of degrees for all nodes in a network\n",
    "# output : a matrix of ranomized stub connections and respective Graph\n",
    "def chung_lu_model(degrees):\n",
    "    \n",
    "    # (a) create array of p_i values\n",
    "    m2 = np.sum(degrees)\n",
    "\n",
    "    # instantiate matrix of zeros to loop through\n",
    "    p_matrix = np.zeros( (len(degrees), len(degrees)) )    \n",
    "    \n",
    "    # (b) loop through node pair and create p_matrix\n",
    "    for row, n1 in zip(p_matrix, range(len(p_matrix)) ):\n",
    "        ki = degrees[n1]\n",
    "        \n",
    "        for n2 in range(len(row)):\n",
    "            kj = degrees[n2]\n",
    "            pij = (ki*kj / m2)\n",
    "            if pij > 1: pij = np.floor(pij)\n",
    "            p_matrix[n1][n2] = pij\n",
    "\n",
    "    # (c) create adjacency matrix (via p_matrix and bernoulli trials) and Graph object\n",
    "    A = stats.bernoulli.rvs(p_matrix)\n",
    "    chung_lu_graph = nx.Graph(A)\n",
    "    return (A, chung_lu_graph)"
   ]
  },
  {
   "cell_type": "code",
   "execution_count": 4,
   "id": "f62eaab9",
   "metadata": {
    "code_folding": [
     0,
     8
    ]
   },
   "outputs": [],
   "source": [
    "# define plot_network(graph, layout, cmap, measure, measure_label, node_labels, positions)\n",
    "# input g : nx.Graph object\n",
    "# input layout : pass in nx.??_layout, whichever most appropriate\n",
    "# input measure : list of measurement by which to color each node (degree, harmonic centrality, etc.)\n",
    "# input measure_label : name of measurement to put on colorbar\n",
    "# input node_labels : labels for nodes\n",
    "# input positions : preset positions for nodes\n",
    "# output drawn network with given specifications\n",
    "def plot_network(g, layout, cmap, measure, measure_label, node_labels, positions = None):\n",
    "    # prepare plot\n",
    "    fig = plt.gcf() ; fig.set_size_inches(10, 8)\n",
    "    if positions == None: layout = layout(g);\n",
    "    else : layout = layout(g, pos = positions);\n",
    "    # plot graph\n",
    "    if node_labels == False:\n",
    "        nx.draw(g, pos = layout, with_labels = True, node_color = measure, cmap = cmap, vmax = max(measure) )\n",
    "    else :\n",
    "        nx.draw(g, pos = layout, with_labels = False, node_color = measure, cmap = cmap, vmax = max(measure) ,\n",
    "                node_size = [10*len(node_labels[i])**2 for i in layout])\n",
    "        # labels\n",
    "        nx.draw_networkx_labels(g, pos=layout, labels=node_labels, font_weight=\"bold\", font_color=\"black\")\n",
    "    # plot colorbar\n",
    "    color_scale = plt.cm.ScalarMappable(cmap=cmap, norm=plt.Normalize(vmin = min(measure), vmax=max(measure)))\n",
    "    plt.colorbar(color_scale, fraction=0.025, aspect=18, label = measure_label);"
   ]
  },
  {
   "cell_type": "markdown",
   "id": "3ae95f18",
   "metadata": {
    "heading_collapsed": true
   },
   "source": [
    "# (2.3) G(n,p) Communities, $p_m = A*(n_m-1)^{-B}$"
   ]
  },
  {
   "cell_type": "code",
   "execution_count": null,
   "id": "d6c0b13d",
   "metadata": {
    "code_folding": [
     6
    ],
    "hidden": true
   },
   "outputs": [],
   "source": [
    "# (2.3) create an inputted K G(n,p) networks using pm = A(nm-1)^-B\n",
    "# define communities(K,A,B)\n",
    "# input K\n",
    "# input A\n",
    "# input B\n",
    "# output \n",
    "def communities(K, A, B):\n",
    "    \n",
    "    # determine random n and p for each community K  \n",
    "    n_list = [] ; p_list = []\n",
    "    for m in range( K ):\n",
    "#         # random n and p ; throw error if p >  1?\n",
    "#         n_m = int(stats.norm(40,5).rvs()) ; \n",
    "        n_m = 10*(m+1) ; p_m = A*(n_m - 1)**(-B)\n",
    "        n_list.append( n_m ) ; p_list.append(p_m);\n",
    "        \n",
    "    # for K G(n,p)communities create 1 sum(n_i) x sum(n_i) matrix \n",
    "    size = np.sum(n_list)\n",
    "    matrix = []\n",
    "    # prepare empty matrix of size sum(n_i) x sum(n_i)\n",
    "    for row in range(size):\n",
    "        row = [0] * size  \n",
    "        matrix.append(row)\n",
    "\n",
    "    # fill matrix for all communities\n",
    "    cumul_commun = 0\n",
    "    for m,pm in zip(range(len(n_list)), p_list):\n",
    "        # for each row\n",
    "        for r in range(cumul_commun, (cumul_commun + n_list[m]) ):\n",
    "            row = matrix[r]\n",
    "            # add connections in each community and only that community\n",
    "            for c in range(cumul_commun , (cumul_commun + n_list[m]) ):\n",
    "                row[c] = stats.bernoulli(pm).rvs()\n",
    "                # avoid self-loops\n",
    "                if (c) == r:\n",
    "                    row[c] = 0\n",
    "\n",
    "        # go to next community\n",
    "        cumul_commun += n_list[m]\n",
    "    matrix = np.asarray(matrix)\n",
    "    \n",
    "    # create a dictionary where each community has their own square matrix (for calculations)\n",
    "    # dictionary of each community; however, currently n_i x sum(n_i)\n",
    "    cumul_commun = 0 ; communities1 = {}\n",
    "    for com,num in zip(n_list, range(len(n_list)) ):\n",
    "        communities1[num] = matrix[cumul_commun : cumul_commun + com]    \n",
    "        cumul_commun += com\n",
    "\n",
    "    # convert each community to a square matrix of n_i x n_i\n",
    "    cumul_commun = 0; communities = {}\n",
    "    for com in communities1:    \n",
    "        # matrix per community\n",
    "        com_mat = []\n",
    "        for node in (communities1[com]):\n",
    "            node = node[ cumul_commun : cumul_commun + communities1[com].shape[0] ]\n",
    "            com_mat.append(node)\n",
    "        communities[com] = np.asarray(com_mat) + np.asarray(com_mat).T - np.diag(np.diag(np.asarray(com_mat)))\n",
    "        # loop to next community by adding the size of the current community\n",
    "        cumul_commun += communities1[com].shape[0]\n",
    "\n",
    "    return n_list, p_list,communities, matrix"
   ]
  },
  {
   "cell_type": "code",
   "execution_count": null,
   "id": "026eac5c",
   "metadata": {
    "hidden": true
   },
   "outputs": [],
   "source": [
    "# input K groups, A, B\n",
    "K = 6; A = 3; B = 1.8\n",
    "ns, ps, communitys, whole_network = communities(K,A,B)"
   ]
  },
  {
   "cell_type": "code",
   "execution_count": null,
   "id": "37d8cdaf",
   "metadata": {
    "code_folding": [],
    "hidden": true
   },
   "outputs": [],
   "source": [
    "# average degree per community\n",
    "print(\"Average Degrees : \")\n",
    "\n",
    "degree_l = []\n",
    "cluster_l = []\n",
    "# for each community, record degree and clustering\n",
    "for i,ni,pi in zip(communitys, ns, ps):\n",
    "    G = nx.Graph(communitys[i])\n",
    "    print(\"For n = \", ni, \"p = \", round(pi,5), \":\")\n",
    "\n",
    "    degree = (pi*(ni-1))  ; cluster = ( (pi*(ni-1)) ) / ni\n",
    "    degree_l.append(degree) ; cluster_l.append(cluster)\n",
    "    \n",
    "    print(\"<k_\", i, \">=\", round(average_degree(G),4), \" ; \",\n",
    "          \"E[k_m]=\", round(degree , 4) ,  \" ; \",\n",
    "          \"E[C_m]=\", round(cluster , 4),  \" ; \", sep=\"\")"
   ]
  },
  {
   "cell_type": "markdown",
   "id": "1a3405da",
   "metadata": {
    "heading_collapsed": true
   },
   "source": [
    "# (2.5) Expectation Maximization"
   ]
  },
  {
   "cell_type": "code",
   "execution_count": null,
   "id": "8f22c1db",
   "metadata": {
    "code_folding": [
     2,
     11,
     19,
     29
    ],
    "hidden": true
   },
   "outputs": [],
   "source": [
    "# (5.5) E step and M step functions\n",
    "# input lam0,lam1,p from either m-step or initial guess, actual data X and its dimensions n\n",
    "def e_step(lam0, lam1, p, X, n):\n",
    "    Q = np.zeros((n, n))\n",
    "    for i, j in it.combinations(range(n), 2):\n",
    "        a = ( (p)*(lam1**X[i,j])*(np.exp(-lam1)) )\n",
    "        b = ( (1-p)*(lam0**X[i,j])*(np.exp(-lam0)) )\n",
    "        Q[i, j] = Q[j, i] = a / (a + b)\n",
    "    return Q\n",
    "\n",
    "# input Q from E step, the actual data X and its dimensions n\n",
    "def m_step(Q, X, n):\n",
    "    d = -1\n",
    "    lam0 = np.sum(np.triu((1-Q)*X,d)) / ( np.sum( np.triu(1-Q, d)) ) \n",
    "    lam1 = np.sum(np.triu(Q*X,d)) / ( np.sum( np.triu(Q, d)) )\n",
    "    p = np.sum(np.triu(Q, d)) / ( choose(n,2) )\n",
    "    return lam0, lam1, p\n",
    "\n",
    "# (5.6) sim_random(Q) simulates a random graph of the data size using Qij but with unweighted edges\n",
    "def sim_random(Q):\n",
    "    n = Q.shape[0]\n",
    "    g = nx.Graph()\n",
    "    # loop over every pairs i,j and connect them with probability Q_ij\n",
    "    for i, j in it.combinations(range(n), 2):\n",
    "        if np.random.rand() < Q[i,j]:\n",
    "            g.add_edge(i, j)\n",
    "    return g\n",
    "\n",
    "# (5.7) simualte_data(Q) simulates matrices rather than drawn networks\n",
    "def simulate_data(Q):\n",
    "    m = []\n",
    "    # loop over every pairs i,j and connect them with probability Q_ij\n",
    "    for i,count in zip(Q, range(len(Q)) ):\n",
    "        mi = []\n",
    "        # lower diagonal of 0s\n",
    "        for j in i[:count]:\n",
    "            mi.append(0)\n",
    "        # diagonal of 0s and upper diagonal of Poisson simulations\n",
    "        for j in i[count:]:\n",
    "            # diagonal of 0s\n",
    "            if j == 0 : mi.append(0)\n",
    "            # upper diagonal of Poisson simulations\n",
    "            else:\n",
    "                if (np.random.rand() < j) : mi.append(np.random.poisson(lam1))\n",
    "                else :  mi.append(np.random.poisson(lam0))\n",
    "        m.append(np.asarray(mi) )\n",
    "    # make matrix symmetric\n",
    "    m = np.asarray(m)\n",
    "    m = m + m.T - np.diag(np.diag(m))\n",
    "    return m"
   ]
  },
  {
   "cell_type": "code",
   "execution_count": null,
   "id": "6c47255e",
   "metadata": {
    "code_folding": [],
    "hidden": true
   },
   "outputs": [],
   "source": [
    "# (5.6) read in data, convert to graph, glimpse at data (textlog, text_g)\n",
    "textlog = ( pd.read_csv(r\"text_logs.txt\", delimiter=\" \", header = None) )\n",
    "textlog = textlog.rename(columns={0:\"A\", 1:\"B\", 2:\"Texts\"})\n",
    "# build graph object; read in edges with weights\n",
    "text_g = nx.Graph()\n",
    "for i in textlog.iloc:\n",
    "    text_g.add_edge(i[0],i[1], weight = i[2])\n",
    "# make textlog a matrix\n",
    "text_m = nx.to_numpy_matrix(text_g, dtype = int)\n",
    "text_matrix = []\n",
    "for i in range( len(text_m) ):\n",
    "    text_matrix.append(np.ravel(text_m[i][0]))\n",
    "text_matrix = np.asarray(text_matrix)\n",
    "\n",
    "\n",
    "# convert = text_matrix as boolean for presence of an edge\n",
    "text_present = text_matrix\n",
    "text_present =  text_present.astype(bool)\n",
    "text_present =  text_present.astype(int)\n",
    "\n",
    "# glimpse at text distributions\n",
    "fig = plt.gcf() ; fig.set_size_inches(8, 6)\n",
    "plt.hist(textlog[\"Texts\"], bins=np.arange(17)+0.5 )\n",
    "plt.axvline(np.mean(textlog[\"Texts\"]), color=\"g\",linewidth = 4); #mean line\n",
    "plt.axvline(np.percentile( textlog[\"Texts\"], 90 ), color=\"r\", linewidth = 4); #.9 percentile line\n",
    "plt.axvline(8, color=\"y\", linewidth = 4); #visually natural breaking point\n",
    "# labels\n",
    "plt.xlabel(\"Texts\"); plt.xticks(np.arange(1, 17, step=1))\n",
    "plt.ylabel(\"Count\"); plt.yticks(np.arange(0, 47, step=3))\n",
    "plt.title(\"Distribution of Texts\"); plt.legend([\"Mean\",\"90% Percentile\", \"Visually Natural Breaking Point\"]);"
   ]
  },
  {
   "cell_type": "code",
   "execution_count": null,
   "id": "3dbd3411",
   "metadata": {
    "code_folding": [],
    "hidden": true
   },
   "outputs": [],
   "source": [
    "# (5.6) assume and input lam1 to examine network ;  if > input, red and close else yellow and not close\n",
    "min_texts = int(input()) ; acq = [] ; friends = []; acq_w = []; friends_w = [];\n",
    "# for edges with less than 8 texts, assume acquaintances\n",
    "for e,e2 in zip(text_g.edges(data=False),text_g.edges(data=True) ):\n",
    "    w = e2[2][\"weight\"]\n",
    "    if (w >= min_texts): friends.append(e); friends_w.append(w);\n",
    "    else : acq.append(e); acq_w.append(w)      \n",
    "print(len(friends), \"friends,\", len(acq), \"acquaintances; Friend % : \", len(friends)/len(acq))\n",
    "print(\"Mean Texts for Friends : \", np.mean(friends_w) )\n",
    "print(\"Mean Texts for Non-Friends : \", np.mean(acq_w) )\n",
    "\n",
    "# prepare plot for network\n",
    "fig = plt.gcf() ; fig.set_size_inches(14, 10)\n",
    "pos = nx.spring_layout(text_g) ; # pos = nx.kamada_kawai_layout(text_g) ; \n",
    "# plot network, color edges by categorical number of texts\n",
    "nx.draw_networkx_nodes(text_g.nodes, pos = pos);\n",
    "nx.draw_networkx_edges(text_g, width=0.5, alpha=0.4, pos = pos, edgelist= acq,  edge_color='y');\n",
    "nx.draw_networkx_edges(text_g, width=2.5, alpha=0.6, pos = pos, edgelist= friends,  edge_color='r');\n",
    "nx.draw_networkx_labels(text_g,pos);\n",
    "plt.title(\"Red Edges are close relationships with at least \"+str(min_texts)+\" texts between each other.\");"
   ]
  },
  {
   "cell_type": "code",
   "execution_count": null,
   "id": "0df71aa5",
   "metadata": {
    "code_folding": [],
    "hidden": true
   },
   "outputs": [],
   "source": [
    "# (5.6) E-M algorithm on poisson network to maximize theta\n",
    "# initialize theta\n",
    "lam0 = np.mean(acq_w) ; lam1 = np.mean(friends_w); p = .5 ; n = len(text_g)\n",
    "\n",
    "# run for several iterations ; \n",
    "iter = 20; trajectory = np.zeros((iter, 3))\n",
    "for i in range(iter):\n",
    "    trajectory[i] = [lam0,lam1,p] ;\n",
    "    Q = e_step(lam0,lam1,p, text_matrix, n) # pass in actual data as a matrix X\n",
    "    lam0,lam1,p = m_step(Q, text_matrix, n)\n",
    "print(\"E-M Algorithm returns the following point estimate : \\n [lam0,lam1,p] = \" , trajectory[-1])"
   ]
  },
  {
   "cell_type": "code",
   "execution_count": null,
   "id": "7292d4cd",
   "metadata": {
    "code_folding": [],
    "hidden": true
   },
   "outputs": [],
   "source": [
    "# (5.6) plot raw data as a colorplot\n",
    "# size of plot\n",
    "plt.figure(figsize=(30,10) ); \n",
    "\n",
    "# plot raw data on heatmap and label colorbar\n",
    "plt.subplot(121);plt.title(\"Raw Data\");\n",
    "plt.imshow(text_matrix, origin='lower', cmap = plt.get_cmap(\"YlOrRd\") );\n",
    "plt.colorbar(fraction=0.05, aspect=18, label='Number of Edges in Raw Data');\n",
    "plt.xlabel(\"Node\"); plt.xticks(np.arange(0, 20, step=1));\n",
    "plt.ylabel(\"Node\"); plt.yticks(np.arange(0, 20, step=1));\n",
    "\n",
    "# # (5.6) Q color plot\n",
    "plt.subplot(122)\n",
    "plt.title(r'Probability matrix $Q$');\n",
    "plt.imshow(Q, origin='lower', cmap=plt.cm.Oranges, vmin=0, vmax=1);\n",
    "plt.colorbar(fraction=0.05, aspect=18, label='Edge probability');\n",
    "plt.xlabel(\"Node\"); plt.xticks(np.arange(0, 20, step=1));\n",
    "plt.ylabel(\"Node\"); plt.yticks(np.arange(0, 20, step=1));"
   ]
  },
  {
   "cell_type": "code",
   "execution_count": null,
   "id": "49bf98f7",
   "metadata": {
    "code_folding": [
     8,
     21
    ],
    "hidden": true
   },
   "outputs": [],
   "source": [
    "# (5.6) draw a few networks simulated with q(A) JUST lam1\n",
    "fig = plt.figure(figsize=(20,14))\n",
    "fig.suptitle(\"Defining at least \" + str(min_texts) + \" texts for a friend\", fontsize=\"x-large\")\n",
    "\n",
    "rows = 2 ; columns = 3\n",
    "pos = nx.spring_layout(text_g)\n",
    "\n",
    "# plot actual ; put in for loop just to code fold and make more readable\n",
    "for a in range(1,2):\n",
    "    plt.subplot(2, 3, a)\n",
    "    # prepare plot for network\n",
    "    fig = plt.gcf() ; fig.set_size_inches(14, 10)\n",
    "    pos = nx.spring_layout(text_g) ; # pos = nx.kamada_kawai_layout(text_g) ; \n",
    "    # plot network, color edges by categorical number of texts\n",
    "    nx.draw_networkx_nodes(text_g.nodes, pos = pos);\n",
    "    nx.draw_networkx_edges(text_g, width=0.5, alpha=0.4, pos = pos, edgelist= acq,  edge_color='y');\n",
    "    nx.draw_networkx_edges(text_g, width=2.5, alpha=0.6, pos = pos, edgelist= friends,  edge_color='r');\n",
    "    nx.draw_networkx_labels(text_g,pos);\n",
    "    plt.title(\"Actual Data : \" + str(len(friends)) + \" friends\");\n",
    "\n",
    "# plot 5 simulations\n",
    "for i in range(1, 6):\n",
    "    friends_est = [] ; acq_est = [];\n",
    "    g_estimated = sim_random(Q)\n",
    "    \n",
    "    sim_texts_l = []\n",
    "    for e,e2 in zip(text_g.edges(data=False), text_g.edges(data=True)):\n",
    "        w = e2[2][\"weight\"]        \n",
    "        # loop through simulation edges and compare to actual data to make estimate\n",
    "        if e in g_estimated.edges():\n",
    "            # loop through actual friends\n",
    "            if w >= min_texts:\n",
    "                sim_texts = np.random.poisson(lam1)\n",
    "                sim_texts_l.append(sim_texts)\n",
    "                # hopefully lam1 will simulate values > min_texts, predicting a friend\n",
    "                if  sim_texts >= min_texts: friends_est.append(e)\n",
    "                # but sometimes lam1 will simulate small values, predicting a non friend\n",
    "                else : acq_est.append(e)         \n",
    "            # loop through acquaintances\n",
    "            else:\n",
    "                sim_texts = np.random.poisson(lam1)\n",
    "                sim_texts_l.append(sim_texts)\n",
    "                # lam0 may happen to be large enough to predict a friend\n",
    "                if sim_texts >= min_texts: friends_est.append(e)\n",
    "                # typically lam0 will predict non-friends\n",
    "                else : acq_est.append(e)\n",
    "        # for edges not in data, no texts were shared and thus simulate lam0\n",
    "        else : \n",
    "            sim_texts = np.random.poisson(lam1)\n",
    "            sim_texts_l.append(sim_texts)\n",
    "            # lam0 may happen to be large enough to predict a friend\n",
    "            if np.random.poisson(lam0) >= min_texts: friends_est.append(e)\n",
    "            # typically lam0 will predict non-friends\n",
    "            else : acq_est.append(e)\n",
    "            \n",
    "\n",
    "    # plot network, color edges by categorical number of texts\n",
    "    fig.add_subplot(rows, columns, i+1)\n",
    "    nx.draw_networkx_nodes(g_estimated.nodes, pos = pos);\n",
    "    nx.draw_networkx_edges(g_estimated, width=0.5, alpha=0.4, pos = pos, edgelist= acq_est,  edge_color='y');\n",
    "    nx.draw_networkx_edges(g_estimated, width=2.5, alpha=0.6, pos = pos, edgelist= friends_est,  edge_color='r');\n",
    "    nx.draw_networkx_labels(g_estimated,pos);\n",
    "    plt.title(\"Simulation \"+str(i)+\" : \"+str(len(friends_est))+\" friends\")  \n",
    "          "
   ]
  },
  {
   "cell_type": "code",
   "execution_count": null,
   "id": "08aa4667",
   "metadata": {
    "code_folding": [],
    "hidden": true
   },
   "outputs": [],
   "source": [
    "# (5.7) several heat maps to notice trends\n",
    "fig = plt.figure(figsize=(20,14))\n",
    "fig.suptitle(\"6 Simulations of the Network and Heatmaps of Their Differences from Actual\", \n",
    "fontsize=\"x-large\")\n",
    "\n",
    "rows = 2 ; columns = 3\n",
    "pos = nx.spring_layout(text_g)\n",
    "\n",
    "for i in range (1,7): \n",
    "    # run data\n",
    "    diff_matrix = np.abs( text_matrix  - simulate_data(Q))\n",
    "    errors_list = ( diff_matrix[np.triu_indices(20, 1)] )\n",
    "    fig.add_subplot(rows, columns, i)\n",
    "    plt.title(\"|Difference in Actual vs Simulation\" + str(i) + \"|\");\n",
    "    plt.imshow(np.abs(diff_matrix), origin='lower', cmap = \"Greys\" );\n",
    "    plt.colorbar(fraction=0.05, aspect=18, label='Incorrect number of edges predicted');\n",
    "    plt.xlabel(\"Node\"); plt.xticks(np.arange(0, 20, step=1));\n",
    "    plt.ylabel(\"Node\"); plt.yticks(np.arange(0, 20, step=1));\n",
    "plt.tight_layout()"
   ]
  },
  {
   "cell_type": "code",
   "execution_count": null,
   "id": "0fb6b5fb",
   "metadata": {
    "code_folding": [],
    "hidden": true
   },
   "outputs": [],
   "source": [
    "# (5.7) several heat maps to notice trends\n",
    "fig = plt.figure(figsize=(20,14))\n",
    "fig.suptitle(\"6 Simulations of the Network and Heatmaps of Their Differences from Actual\", \n",
    "fontsize=\"x-large\")\n",
    "\n",
    "rows = 2 ; columns = 3\n",
    "pos = nx.spring_layout(text_g)\n",
    "\n",
    "for i in range (1,7): \n",
    "    # run data\n",
    "    diff_matrix = np.abs( text_matrix  - simulate_data(Q))\n",
    "    errors_list = ( diff_matrix[np.triu_indices(20, 1)] )\n",
    "    fig.add_subplot(rows, columns, i)\n",
    "    plt.title(\"|Difference in Actual vs Simulation\" + str(i) + \"|\");\n",
    "    plt.imshow(np.abs(diff_matrix), origin='lower', cmap = \"Greys\" );\n",
    "    plt.colorbar(fraction=0.05, aspect=18, label='Incorrect number of edges predicted');\n",
    "    plt.xlabel(\"Node\"); plt.xticks(np.arange(0, 20, step=1));\n",
    "    plt.ylabel(\"Node\"); plt.yticks(np.arange(0, 20, step=1));\n",
    "plt.tight_layout()"
   ]
  },
  {
   "cell_type": "code",
   "execution_count": null,
   "id": "a2c11459",
   "metadata": {
    "code_folding": [],
    "hidden": true
   },
   "outputs": [],
   "source": [
    "# (5.7) plot raw data as a colorplot\n",
    "plt.figure(figsize=(30,10) ); plt.rcParams.update({'font.size': 16});\n",
    "\n",
    "# run data\n",
    "diff_matrix = np.abs( text_matrix  - simulate_data(Q))\n",
    "errors_list = ( diff_matrix[np.triu_indices(20, 1)] )\n",
    "\n",
    "# size of plot\n",
    "plt.subplot(121)\n",
    "# plot difference on heatmap and label colorbar\n",
    "plt.title(\"Absolute Value of Difference in Actual vs Simulation\");\n",
    "plt.imshow(np.abs(diff_matrix), origin='lower', cmap = \"Greys\" );\n",
    "plt.colorbar(fraction=0.05, aspect=18, label='Incorrect number of edges predicted');\n",
    "plt.xlabel(\"Node\"); plt.xticks(np.arange(0, 20, step=1));\n",
    "plt.ylabel(\"Node\"); plt.yticks(np.arange(0, 20, step=1));\n",
    "\n",
    "# hist of errors for clarity\n",
    "plt.subplot(122)\n",
    "plt.hist(errors_list, bins = 10);\n",
    "# labels\n",
    "plt.xlabel(\"Error in Texts\"); plt.ylabel(\"Count\");\n",
    "plt.title(\"Distribution of Error in Texts\"); "
   ]
  },
  {
   "cell_type": "markdown",
   "id": "b28658d3",
   "metadata": {
    "heading_collapsed": true
   },
   "source": [
    "# (3.2) Configuration Model, Chung_Lu Model"
   ]
  },
  {
   "cell_type": "code",
   "execution_count": null,
   "id": "41927163",
   "metadata": {
    "hidden": true
   },
   "outputs": [],
   "source": [
    "degrees=[8,5,5,4,3,2,2,2,1,1,1,1,1,1,1]\n",
    "\n",
    "# draw config example from networkx\n",
    "goal = nx.configuration_model(degrees, seed=ranseed)\n",
    "cmap = \"YlOrRd\""
   ]
  },
  {
   "cell_type": "code",
   "execution_count": null,
   "id": "a17aaece",
   "metadata": {
    "code_folding": [
     0
    ],
    "hidden": true
   },
   "outputs": [],
   "source": [
    "# (2.3) run and plot configuration model\n",
    "rows = 2 ; columns = 3 ; fig, ax = plt.subplots(rows, columns, figsize=(14,8))\n",
    "pos = nx.circular_layout(goal) ; colors = plt.cm.YlOrRd ; \n",
    "plt.suptitle(\"6 Configuration Model Simulations\", size = 20)\n",
    "color_scale = plt.cm.ScalarMappable(cmap=colors, norm=plt.Normalize(vmin = min(degrees), vmax=max(degrees)))\n",
    "\n",
    "# prepare simulations and a summed/average adjacency matrix A = a_avg_config\n",
    "sims = 1000; a_avg_config = np.zeros( (len(degrees), len(degrees)) )\n",
    "# run sims simulations from the configuration model; 600 for A but only plot 6\n",
    "for i in range(0, sims):\n",
    "    # create configuration model ; add adjacency matrix to a_avg_config and prepare Graph object\n",
    "    a_avg_config += config_model(degrees)[0]\n",
    "    config_plot = config_model(degrees)[1]\n",
    "    # only plot .01*sims=6 simulations\n",
    "    if i < (.006*sims):\n",
    "        # plot network, color edges by categorical number of texts\n",
    "        fig.add_subplot(rows, columns, i+1)\n",
    "        nx.draw_networkx_nodes( config_plot, pos = pos, node_color = degrees, cmap = colors);\n",
    "        nx.draw_networkx_edges( config_plot, pos = pos);\n",
    "        nx.draw_networkx_labels(config_plot, pos = pos);\n",
    "        plt.title(f\"Config Model Sim{i+1}\"); \n",
    "# average adjacency matrix for config model\n",
    "a_avg_config = (a_avg_config / sims) \n",
    "\n",
    "# tidy plot\n",
    "plt.setp(plt.gcf().get_axes(), xticks=[], yticks=[]); # remove axes\n",
    "plt.tight_layout();\n",
    "# grand colorbar \n",
    "cax = fig.add_axes([1.05, 0.1, 0.05, .8]) # left, bottom, width, height\n",
    "fig.colorbar( color_scale, fraction=0.5, aspect=18, label='Degree', cax=cax);"
   ]
  },
  {
   "cell_type": "code",
   "execution_count": null,
   "id": "211b86cb",
   "metadata": {
    "code_folding": [
     0
    ],
    "hidden": true
   },
   "outputs": [],
   "source": [
    "# (2.3) run and plot chung_lu model\n",
    "rows = 2 ; columns = 3 ; fig, ax = plt.subplots(rows, columns, figsize=(14,8))\n",
    "pos = nx.circular_layout(goal) ; colors = plt.cm.YlOrRd ; \n",
    "color_scale = plt.cm.ScalarMappable(cmap=colors, norm=plt.Normalize(vmin = min(degrees), vmax=max(degrees)))\n",
    "plt.suptitle(\"6 Chung-Lu Model Simulations\", size = 20)\n",
    "\n",
    "# prepare simulations and a summed/average adjacency matrix A = a_avg_chung_lu\n",
    "sims = 1000; a_avg_chung_lu = np.zeros( (len(degrees), len(degrees)) )\n",
    "# run sims simulations from the chung_lu model; 600 for A but only plot 6\n",
    "for i in range(0, sims):\n",
    "    # create chung_lu model ; add adjacency matrix to a_avg_chung_lu and prepare Graph object\n",
    "    a_avg_chung_lu += chung_lu_model(degrees)[0]\n",
    "    chung_lu_plot = chung_lu_model(degrees)[1]\n",
    "    # only plot .01*sims=6 simulations\n",
    "    if i < (.006*sims):\n",
    "        # plot network, color edges by categorical number of texts\n",
    "        fig.add_subplot(rows, columns, i+1)\n",
    "        nx.draw_networkx_nodes( chung_lu_plot, pos = pos, node_color = degrees, cmap = colors);\n",
    "        nx.draw_networkx_edges( chung_lu_plot, pos = pos);\n",
    "        nx.draw_networkx_labels(chung_lu_plot, pos = pos);\n",
    "        plt.title(f\"Chung Lu Model Sim{i+1}\"); \n",
    "# average adjacency matrix for chung_lu model\n",
    "a_avg_chung_lu = np.round(a_avg_chung_lu / sims, 3) \n",
    "\n",
    "\n",
    "plt.tight_layout();\n",
    "\n",
    "# tidy plot\n",
    "plt.setp(plt.gcf().get_axes(), xticks=[], yticks=[]); # remove axes\n",
    "plt.tight_layout();\n",
    "# grand colorbar \n",
    "cax = fig.add_axes([1.05, 0.1, 0.05, .8]) # left, bottom, width, height\n",
    "fig.colorbar( color_scale, fraction=0.5, aspect=18, label='Degree', cax=cax);"
   ]
  },
  {
   "cell_type": "code",
   "execution_count": null,
   "id": "a425dce9",
   "metadata": {
    "code_folding": [
     0
    ],
    "hidden": true
   },
   "outputs": [],
   "source": [
    "# 2.3(a) plot adjacency matrices as heat maps for config and chung-lu\n",
    "# size of plot and prepare colorbar\n",
    "fig, ax = plt.subplots(1, 2, figsize=(12,6));\n",
    "color_scale = plt.cm.ScalarMappable(cmap=\"Greys\", norm=plt.Normalize(vmin = 0, vmax = 1) );\n",
    "plt.suptitle(f\" 2.3(a) Compare Config Model and Chung-Lu model average adjacency matrices for {sims} simulations\", \n",
    "             size = 18);\n",
    "\n",
    "# plot heatmap of average adjacency matrix ; config model\n",
    "plt.subplot(121)\n",
    "plt.title(f\"Average Adjacency Matrix for {sims} Configuration Model Simulations\");\n",
    "plt.imshow(a_avg_config, origin='lower', cmap = plt.get_cmap(\"Greys\"), vmax=1 );\n",
    "plt.xlabel(\"Node\"); plt.xticks(np.arange(0, 15, step=1));\n",
    "plt.ylabel(\"Node\"); plt.yticks(np.arange(0, 15, step=1));\n",
    "\n",
    "# plot heatmap of average adjacency matrix ; chung-lu model\n",
    "plt.subplot(122)\n",
    "plt.title(f\"Average Adjacency Matrix for {sims} Chung-Lu Model Simulations\");\n",
    "plt.imshow(a_avg_chung_lu, origin='lower', cmap = plt.get_cmap(\"Greys\") );\n",
    "plt.xlabel(\"Node\"); plt.xticks(np.arange(0, 15, step=1));\n",
    "plt.ylabel(\"Node\"); plt.yticks(np.arange(0, 15, step=1));\n",
    "plt.tight_layout();\n",
    "\n",
    "# grand colorbar \n",
    "cax = fig.add_axes([1.05, 0.1, 0.05, .8]); # [far left, .1 off bottom, narrow, up to .9]\n",
    "fig.colorbar(color_scale, fraction=0.5, aspect=18, label='Proportion of Connections', cax=cax);"
   ]
  },
  {
   "cell_type": "code",
   "execution_count": null,
   "id": "068a77df",
   "metadata": {
    "code_folding": [
     0,
     5
    ],
    "hidden": true
   },
   "outputs": [],
   "source": [
    "# dataframe of simulations of config and chung-lu\n",
    "config_df = pd.DataFrame(columns = [\"avg_degrees\",\"densities\",\"clusterings\", \"giant\", \"transitivity\"])\n",
    "chung_lu_df = pd.DataFrame(columns = [\"avg_degrees\",\"densities\",\"clusterings\", \"giant\", \"transitivity\"])\n",
    "\n",
    "sims = 1000\n",
    "for sim in range(sims):\n",
    "    # create a configuration model and chung-lu model simulation\n",
    "    sim_config = config_model(degrees)[1]\n",
    "    sim_chung_lu = chung_lu_model(degrees)[1]\n",
    "\n",
    "    \n",
    "    # append config summary stats\n",
    "    avg_deg = np.mean(sim_config.degree) ; dens = nx.density(sim_config) ; clust = nx.average_clustering(sim_config)\n",
    "    graph_components = sorted(nx.connected_components(sim_config), key=len, reverse=True)\n",
    "    giant_component = len( graph_components[0] )\n",
    "    transitivity = nx.transitivity(sim_config)\n",
    "    config_df.loc[sim] = (avg_deg,dens,clust, giant_component, transitivity)\n",
    "    \n",
    "    # append chung_lu summary stats    \n",
    "    avg_deg = np.mean(sim_chung_lu.degree) ; dens = nx.density(sim_chung_lu) ; clust = nx.average_clustering(sim_chung_lu)\n",
    "    graph_components = sorted(nx.connected_components(sim_chung_lu), key=len, reverse=True)\n",
    "    giant_component = len(graph_components[0])\n",
    "    transitivity = nx.transitivity(sim_chung_lu)\n",
    "\n",
    "    chung_lu_df.loc[sim] = (avg_deg,dens,clust,giant_component, transitivity)\n",
    "\n",
    "# compare summary statistics\n",
    "display_side_by_side( np.round(config_df.describe(),3), \n",
    "                      np.round(chung_lu_df.describe(),3), titles=[\"Config\", \"Chung-Lu\"])"
   ]
  },
  {
   "cell_type": "code",
   "execution_count": null,
   "id": "cac2120f",
   "metadata": {
    "hidden": true
   },
   "outputs": [],
   "source": [
    "# compare average degrees\n",
    "compare_summarries(config_df, chung_lu_df, \"avg_degrees\")"
   ]
  },
  {
   "cell_type": "markdown",
   "id": "ab75774b",
   "metadata": {
    "heading_collapsed": true
   },
   "source": [
    "# (3.3) Padgett Florentine Family Analysis"
   ]
  },
  {
   "cell_type": "code",
   "execution_count": 5,
   "id": "118737d4",
   "metadata": {
    "code_folding": [
     0
    ],
    "hidden": true
   },
   "outputs": [],
   "source": [
    "# define string_to_array(s)\n",
    "# transform string of node positions in floretine family to arrays\n",
    "def string_to_array(s):\n",
    "    s = ( s.lstrip(\"array[(\") ); s = ( s.rstrip(\"]) \")) ; \n",
    "    s = [float(x) for x in s.split(\", \")]\n",
    "    return s"
   ]
  },
  {
   "cell_type": "code",
   "execution_count": 6,
   "id": "1651918d",
   "metadata": {
    "code_folding": [
     0
    ],
    "hidden": true
   },
   "outputs": [],
   "source": [
    "# read in florentine family dataset, basic manipulation\n",
    "# read in data\n",
    "flor_edges = pd.read_csv(r\"florentine_edges.csv\")\n",
    "flor_nodes = pd.read_csv(r\"florentine_nodes.csv\")\n",
    "\n",
    "# remove business relationship from data\n",
    "mar_edges = []\n",
    "for link in flor_edges.iloc: \n",
    "    if(link[3] != 2): mar_edges.append( [link[0],link[1]] )\n",
    "# only marriage; filter out \"layer\" or business relationships\n",
    "flor_edges = pd.DataFrame( data = mar_edges, columns = [\"From\", \"To\"])\n",
    "\n",
    "# create \"pos\" dictionary for nodes to their location\n",
    "node_loc = {n:string_to_array(loc) for n,loc in zip(flor_nodes[flor_nodes.columns[0]],flor_nodes[flor_nodes.columns[3]])}\n",
    "# all family/node names\n",
    "labeldict = {i : fam for i,fam in zip( flor_nodes[flor_nodes.columns[2]].index, flor_nodes[flor_nodes.columns[2]] )}"
   ]
  },
  {
   "cell_type": "code",
   "execution_count": 7,
   "id": "503573a1",
   "metadata": {
    "code_folding": [
     0
    ],
    "hidden": true
   },
   "outputs": [
    {
     "data": {
      "image/png": "[encoded data removed]",
      "text/plain": [
       "<Figure size 720x576 with 2 Axes>"
      ]
     },
     "metadata": {},
     "output_type": "display_data"
    }
   ],
   "source": [
    "# draw Florentine family network\n",
    "# create Graph object of Florentine Families dataset\n",
    "florentine = nx.Graph()\n",
    "\n",
    "# create edges\n",
    "for link in flor_edges.iloc: florentine.add_edge( link[0], link[1] )\n",
    "florentine.add_node(11)\n",
    "# print node number and its respective degree\n",
    "florentine_deg = [i[1] for i in florentine.degree]\n",
    "\n",
    "# check plot of Padgett Florentine families dataset\n",
    "l = nx.spring_layout\n",
    "plot_network(florentine, layout = l, cmap = \"YlOrRd\", measure = florentine_deg, measure_label = \"Degree\", \n",
    "             node_labels = labeldict, positions = node_loc);\n",
    "plt.title(\"Padgett Florentine Families Network ; Spring Layout with Degree Intensity\");"
   ]
  },
  {
   "cell_type": "code",
   "execution_count": 8,
   "id": "30e95530",
   "metadata": {
    "hidden": true
   },
   "outputs": [
    {
     "data": {
      "image/png": "[encoded data removed]",
      "text/plain": [
       "<Figure size 720x576 with 2 Axes>"
      ]
     },
     "metadata": {},
     "output_type": "display_data"
    }
   ],
   "source": [
    "# (3.2) draw network based on harmonic centrality\n",
    "# find harmonic centrality\n",
    "hc, hc_df = harmonic_centrality(florentine)\n",
    "# set nx standard\n",
    "l = nx.spring_layout ; cmap = \"viridis\"\n",
    "# draw nx graph\n",
    "plot_network(florentine, layout = l, cmap = cmap, measure = hc, measure_label=\"Harmonic Centrality\", \n",
    "             node_labels = labeldict, positions = node_loc);\n",
    "plt.title(\"Florentine Family Network; Harmonic Centrality Visualization\");"
   ]
  },
  {
   "cell_type": "code",
   "execution_count": 9,
   "id": "321310e1",
   "metadata": {
    "code_folding": [
     0
    ],
    "hidden": true
   },
   "outputs": [
    {
     "name": "stdout",
     "output_type": "stream",
     "text": [
      "\t      Table 3.1\n"
     ]
    },
    {
     "data": {
      "text/html": [
       "<div>\n",
       "<style scoped>\n",
       "    .dataframe tbody tr th:only-of-type {\n",
       "        vertical-align: middle;\n",
       "    }\n",
       "\n",
       "    .dataframe tbody tr th {\n",
       "        vertical-align: top;\n",
       "    }\n",
       "\n",
       "    .dataframe thead th {\n",
       "        text-align: right;\n",
       "    }\n",
       "</style>\n",
       "<table border=\"1\" class=\"dataframe\">\n",
       "  <thead>\n",
       "    <tr style=\"text-align: right;\">\n",
       "      <th></th>\n",
       "      <th>Node</th>\n",
       "      <th>HC</th>\n",
       "      <th>Family</th>\n",
       "      <th>Degree</th>\n",
       "    </tr>\n",
       "  </thead>\n",
       "  <tbody>\n",
       "    <tr>\n",
       "      <th>8</th>\n",
       "      <td>8.0</td>\n",
       "      <td>0.361111</td>\n",
       "      <td>MEDICI</td>\n",
       "      <td>6</td>\n",
       "    </tr>\n",
       "    <tr>\n",
       "      <th>12</th>\n",
       "      <td>12.0</td>\n",
       "      <td>0.327778</td>\n",
       "      <td>RIDOLFI</td>\n",
       "      <td>3</td>\n",
       "    </tr>\n",
       "    <tr>\n",
       "      <th>6</th>\n",
       "      <td>6.0</td>\n",
       "      <td>0.324444</td>\n",
       "      <td>GUADAGNI</td>\n",
       "      <td>4</td>\n",
       "    </tr>\n",
       "    <tr>\n",
       "      <th>1</th>\n",
       "      <td>1.0</td>\n",
       "      <td>0.322222</td>\n",
       "      <td>ALBIZZI</td>\n",
       "      <td>3</td>\n",
       "    </tr>\n",
       "    <tr>\n",
       "      <th>15</th>\n",
       "      <td>15.0</td>\n",
       "      <td>0.322222</td>\n",
       "      <td>TORNABUON</td>\n",
       "      <td>3</td>\n",
       "    </tr>\n",
       "    <tr>\n",
       "      <th>14</th>\n",
       "      <td>14.0</td>\n",
       "      <td>0.315556</td>\n",
       "      <td>STROZZI</td>\n",
       "      <td>4</td>\n",
       "    </tr>\n",
       "    <tr>\n",
       "      <th>2</th>\n",
       "      <td>2.0</td>\n",
       "      <td>0.302222</td>\n",
       "      <td>BARBADORI</td>\n",
       "      <td>2</td>\n",
       "    </tr>\n",
       "    <tr>\n",
       "      <th>3</th>\n",
       "      <td>3.0</td>\n",
       "      <td>0.298889</td>\n",
       "      <td>BISCHERI</td>\n",
       "      <td>3</td>\n",
       "    </tr>\n",
       "    <tr>\n",
       "      <th>4</th>\n",
       "      <td>4.0</td>\n",
       "      <td>0.290000</td>\n",
       "      <td>CASTELLAN</td>\n",
       "      <td>3</td>\n",
       "    </tr>\n",
       "    <tr>\n",
       "      <th>10</th>\n",
       "      <td>10.0</td>\n",
       "      <td>0.284444</td>\n",
       "      <td>PERUZZI</td>\n",
       "      <td>3</td>\n",
       "    </tr>\n",
       "    <tr>\n",
       "      <th>13</th>\n",
       "      <td>13.0</td>\n",
       "      <td>0.284444</td>\n",
       "      <td>SALVIATI</td>\n",
       "      <td>2</td>\n",
       "    </tr>\n",
       "    <tr>\n",
       "      <th>0</th>\n",
       "      <td>0.0</td>\n",
       "      <td>0.267778</td>\n",
       "      <td>ACCIAIUOL</td>\n",
       "      <td>1</td>\n",
       "    </tr>\n",
       "    <tr>\n",
       "      <th>5</th>\n",
       "      <td>5.0</td>\n",
       "      <td>0.247778</td>\n",
       "      <td>GINORI</td>\n",
       "      <td>1</td>\n",
       "    </tr>\n",
       "    <tr>\n",
       "      <th>7</th>\n",
       "      <td>7.0</td>\n",
       "      <td>0.247778</td>\n",
       "      <td>LAMBERTES</td>\n",
       "      <td>1</td>\n",
       "    </tr>\n",
       "    <tr>\n",
       "      <th>9</th>\n",
       "      <td>9.0</td>\n",
       "      <td>0.225556</td>\n",
       "      <td>PAZZI</td>\n",
       "      <td>1</td>\n",
       "    </tr>\n",
       "    <tr>\n",
       "      <th>11</th>\n",
       "      <td>11.0</td>\n",
       "      <td>0.000000</td>\n",
       "      <td>PUCCI</td>\n",
       "      <td>0</td>\n",
       "    </tr>\n",
       "  </tbody>\n",
       "</table>\n",
       "</div>"
      ],
      "text/plain": [
       "    Node        HC     Family  Degree\n",
       "8    8.0  0.361111     MEDICI       6\n",
       "12  12.0  0.327778    RIDOLFI       3\n",
       "6    6.0  0.324444   GUADAGNI       4\n",
       "1    1.0  0.322222    ALBIZZI       3\n",
       "15  15.0  0.322222  TORNABUON       3\n",
       "14  14.0  0.315556    STROZZI       4\n",
       "2    2.0  0.302222  BARBADORI       2\n",
       "3    3.0  0.298889   BISCHERI       3\n",
       "4    4.0  0.290000  CASTELLAN       3\n",
       "10  10.0  0.284444    PERUZZI       3\n",
       "13  13.0  0.284444   SALVIATI       2\n",
       "0    0.0  0.267778  ACCIAIUOL       1\n",
       "5    5.0  0.247778     GINORI       1\n",
       "7    7.0  0.247778  LAMBERTES       1\n",
       "9    9.0  0.225556      PAZZI       1\n",
       "11  11.0  0.000000      PUCCI       0"
      ]
     },
     "metadata": {},
     "output_type": "display_data"
    }
   ],
   "source": [
    "# compare actual harmonic centralities for nodes\n",
    "# get family name from node index in given node file\n",
    "fams = [flor_nodes.loc[flor_nodes.index.get_loc(i)][2] for i in hc_df[\"Node\"]]    \n",
    "# add names to dataframe with harmonic centrality; add appropriate name to appropriate node number\n",
    "hc_df[\"Family\"] = fams\n",
    "hc_df[\"Degree\"] = florentine_deg\n",
    "\n",
    "# display values\n",
    "print(\"\\t      Table 3.1\")\n",
    "display(hc_df.sort_values(\"HC\", ascending=False))"
   ]
  },
  {
   "cell_type": "code",
   "execution_count": 13,
   "id": "4d24d19a",
   "metadata": {
    "code_folding": [
     0
    ],
    "hidden": true
   },
   "outputs": [],
   "source": [
    "# simulate 2000 networks of the family via the Config Model ; keep track of harmonic centrality for all simulations\n",
    "hc_all_sims = []\n",
    "# run simulations for identical degree sequences to examine differences in harmonic centrality\n",
    "for sim in range(2000):\n",
    "    # create a simulation of florentine data with identical degree sequence\n",
    "    g_sim = config_model(florentine_deg)[1]    \n",
    "    # calculate harmonic centrality for all nodes in this particular simulation\n",
    "    hc_sim = harmonic_centrality( g_sim )[0]\n",
    "    # append this simulation's harmonic centrality values to list\n",
    "    hc_all_sims.append(hc_sim)\n",
    "    \n",
    "# harmonic centrality DataFrame\n",
    "hc_sim_df = pd.DataFrame(data = hc_all_sims, columns = hc_df[\"Family\"] )\n",
    "simulation_summary_stats = ( np.round(hc_sim_df.describe().transpose(), 3) )"
   ]
  },
  {
   "cell_type": "code",
   "execution_count": 14,
   "id": "937053ec",
   "metadata": {
    "code_folding": [
     0
    ],
    "hidden": true
   },
   "outputs": [
    {
     "data": {
      "image/png": "[encoded data removed]",
      "text/plain": [
       "<Figure size 864x720 with 16 Axes>"
      ]
     },
     "metadata": {
      "needs_background": "light"
     },
     "output_type": "display_data"
    }
   ],
   "source": [
    "# Fig 3.3; simulated harmonic centrality histograms for each family \n",
    "rows = 4 ; cols = 4;  fig, axs = plt.subplots(rows,cols,figsize=(12,10));\n",
    "plt.suptitle(\"\"\"Fig 3.3 Harmonic Centrality for each Family after 1000 Simulations\"\"\");\n",
    "\n",
    "# plot histograms for each family\n",
    "# for each subplot axis and each family\n",
    "\n",
    "for enum, fam in zip(enumerate(fig.axes), hc_sim_df.columns):\n",
    "    # sepereate subplot number and actual axis object\n",
    "    i = enum[0] ; ax = enum[1]\n",
    "    # retrieve the simulated harmonic centrality values\n",
    "    ax.hist( hc_sim_df[fam], bins = 20, alpha = .8 )\n",
    "    \n",
    "    # plot red lines for actual harmonic centrality values    \n",
    "    ax.vlines(hc[i], color = \"red\", ymin = 0, ymax = 500, linewidth = 4)\n",
    "    # plot green lines for expected harmonic centrality values    \n",
    "    ax.vlines( np.mean(hc_sim_df[fam]), color = \"green\", ymin = 0, ymax = 500, linewidth = 4)\n",
    "    # calculate and plot yellow lines for .25 and .75 percentile harmonic centrality values\n",
    "    q25, q75 = ( np.quantile(hc_sim_df[fam], q =.25) , np.quantile(hc_sim_df[fam], q =.75) )\n",
    "    ax.vlines(q25, color = \"y\", ymin = 0, ymax = 500, linewidth = 3, linestyles = \"dashed\", alpha = .8);\n",
    "    ax.vlines(q75, color = \"y\", ymin = 0, ymax = 500, linewidth = 3, linestyles = \"dashed\", alpha = .8);\n",
    "    \n",
    "    # tidy up plot ; tidy x axis and create inidivudal titles\n",
    "    ax.set_xlim([0, 0.4]) ; ax.set_xticks( np.linspace(0,.4,5) ) ;\n",
    "    ax.set_title(str(fam)) ;\n",
    "\n",
    "# label lines in legend\n",
    "plt.legend( [\"Actual\",\"Mean\",\"Percentiles\"] )\n",
    "\n",
    "plt.tight_layout();"
   ]
  },
  {
   "cell_type": "code",
   "execution_count": null,
   "id": "2cb2d612",
   "metadata": {
    "hidden": true
   },
   "outputs": [],
   "source": []
  },
  {
   "cell_type": "code",
   "execution_count": null,
   "id": "3ece652f",
   "metadata": {
    "hidden": true
   },
   "outputs": [],
   "source": []
  },
  {
   "cell_type": "markdown",
   "id": "99f088b1",
   "metadata": {},
   "source": [
    "# . .  .\n"
   ]
  },
  {
   "cell_type": "code",
   "execution_count": null,
   "id": "1c58b502",
   "metadata": {},
   "outputs": [],
   "source": []
  },
  {
   "cell_type": "code",
   "execution_count": null,
   "id": "aa83f875",
   "metadata": {},
   "outputs": [],
   "source": []
  },
  {
   "cell_type": "code",
   "execution_count": null,
   "id": "103a4b34",
   "metadata": {},
   "outputs": [],
   "source": []
  },
  {
   "cell_type": "code",
   "execution_count": null,
   "id": "98ec6e52",
   "metadata": {},
   "outputs": [],
   "source": []
  }
 ],
 "metadata": {
  "kernelspec": {
   "display_name": "Python 3 (ipykernel)",
   "language": "python",
   "name": "python3"
  },
  "language_info": {
   "codemirror_mode": {
    "name": "ipython",
    "version": 3
   },
   "file_extension": ".py",
   "mimetype": "text/x-python",
   "name": "python",
   "nbconvert_exporter": "python",
   "pygments_lexer": "ipython3",
   "version": "3.8.12"
  }
 },
 "nbformat": 4,
 "nbformat_minor": 5
}
